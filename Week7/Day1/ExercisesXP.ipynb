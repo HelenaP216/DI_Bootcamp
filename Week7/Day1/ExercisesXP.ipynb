{
 "cells": [
  {
   "cell_type": "code",
   "execution_count": 1,
   "id": "8ad3ecfe",
   "metadata": {},
   "outputs": [
    {
     "ename": "AttributeError",
     "evalue": "module 'numpy' has no attribute '_version_'",
     "output_type": "error",
     "traceback": [
      "\u001b[1;31m---------------------------------------------------------------------------\u001b[0m",
      "\u001b[1;31mAttributeError\u001b[0m                            Traceback (most recent call last)",
      "Input \u001b[1;32mIn [1]\u001b[0m, in \u001b[0;36m<cell line: 4>\u001b[1;34m()\u001b[0m\n\u001b[0;32m      1\u001b[0m \u001b[38;5;66;03m# 1. Import the numpy package under the name `np`\u001b[39;00m\n\u001b[0;32m      2\u001b[0m \u001b[38;5;66;03m# 2. Print the numpy version\u001b[39;00m\n\u001b[0;32m      3\u001b[0m \u001b[38;5;28;01mimport\u001b[39;00m \u001b[38;5;21;01mnumpy\u001b[39;00m \u001b[38;5;28;01mas\u001b[39;00m \u001b[38;5;21;01mnp\u001b[39;00m\n\u001b[1;32m----> 4\u001b[0m \u001b[43mnp\u001b[49m\u001b[38;5;241;43m.\u001b[39;49m\u001b[43m_version_\u001b[49m\n",
      "File \u001b[1;32m~\\AppData\\Local\\Programs\\Python\\Python310\\lib\\site-packages\\numpy\\__init__.py:315\u001b[0m, in \u001b[0;36m__getattr__\u001b[1;34m(attr)\u001b[0m\n\u001b[0;32m    312\u001b[0m     \u001b[38;5;28;01mfrom\u001b[39;00m \u001b[38;5;21;01m.\u001b[39;00m\u001b[38;5;21;01mtesting\u001b[39;00m \u001b[38;5;28;01mimport\u001b[39;00m Tester\n\u001b[0;32m    313\u001b[0m     \u001b[38;5;28;01mreturn\u001b[39;00m Tester\n\u001b[1;32m--> 315\u001b[0m \u001b[38;5;28;01mraise\u001b[39;00m \u001b[38;5;167;01mAttributeError\u001b[39;00m(\u001b[38;5;124m\"\u001b[39m\u001b[38;5;124mmodule \u001b[39m\u001b[38;5;132;01m{!r}\u001b[39;00m\u001b[38;5;124m has no attribute \u001b[39m\u001b[38;5;124m\"\u001b[39m\n\u001b[0;32m    316\u001b[0m                      \u001b[38;5;124m\"\u001b[39m\u001b[38;5;132;01m{!r}\u001b[39;00m\u001b[38;5;124m\"\u001b[39m\u001b[38;5;241m.\u001b[39mformat(\u001b[38;5;18m__name__\u001b[39m, attr))\n",
      "\u001b[1;31mAttributeError\u001b[0m: module 'numpy' has no attribute '_version_'"
     ]
    }
   ],
   "source": [
    "# 1. Import the numpy package under the name `np`\n",
    "# 2. Print the numpy version\n",
    "import numpy as np\n",
    "np._version_\n"
   ]
  },
  {
   "cell_type": "code",
   "execution_count": 2,
   "id": "aec64230",
   "metadata": {},
   "outputs": [
    {
     "name": "stdout",
     "output_type": "stream",
     "text": [
      "[0. 0. 0. 0. 0. 0. 0. 0. 0. 0.]\n"
     ]
    }
   ],
   "source": [
    "# 3. Create a vector of zeros with the size 10\n",
    "import numpy as np\n",
    "zeroVector = np.zeros(10)\n",
    "print(zeroVector)\n"
   ]
  },
  {
   "cell_type": "code",
   "execution_count": 3,
   "id": "509683bb",
   "metadata": {},
   "outputs": [
    {
     "ename": "SyntaxError",
     "evalue": "unterminated string literal (detected at line 3) (3256933133.py, line 3)",
     "output_type": "error",
     "traceback": [
      "\u001b[1;36m  Input \u001b[1;32mIn [3]\u001b[1;36m\u001b[0m\n\u001b[1;33m    \"print(\"Memory size of the array is: \", x.size * x.itemsize)\u001b[0m\n\u001b[1;37m                                         ^\u001b[0m\n\u001b[1;31mSyntaxError\u001b[0m\u001b[1;31m:\u001b[0m unterminated string literal (detected at line 3)\n"
     ]
    }
   ],
   "source": [
    "#  4. How to find the memory size of any array\n",
    "x = np.array([1, 2, 5, 100])\n",
    "\"print(\"Memory size of the array is: \", x.size * x.itemsize)\n",
    "    "
   ]
  },
  {
   "cell_type": "code",
   "execution_count": 4,
   "id": "906a6961",
   "metadata": {},
   "outputs": [
    {
     "name": "stdout",
     "output_type": "stream",
     "text": [
      "Memory size of the array is:  16\n"
     ]
    }
   ],
   "source": [
    "#  4. How to find the memory size of any array\n",
    "x = np.array([1, 2, 5, 100])\n",
    "print(\"Memory size of the array is: \", x.size * x.itemsize)\n"
   ]
  },
  {
   "cell_type": "code",
   "execution_count": 5,
   "id": "00db836c",
   "metadata": {},
   "outputs": [
    {
     "name": "stdout",
     "output_type": "stream",
     "text": [
      "add(x1, x2, /, out=None, *, where=True, casting='same_kind', order='K', dtype=None, subok=True[, signature, extobj])\n",
      "\n",
      "Add arguments element-wise.\n",
      "\n",
      "Parameters\n",
      "----------\n",
      "x1, x2 : array_like\n",
      "    The arrays to be added.\n",
      "    If ``x1.shape != x2.shape``, they must be broadcastable to a common\n",
      "    shape (which becomes the shape of the output).\n",
      "out : ndarray, None, or tuple of ndarray and None, optional\n",
      "    A location into which the result is stored. If provided, it must have\n",
      "    a shape that the inputs broadcast to. If not provided or None,\n",
      "    a freshly-allocated array is returned. A tuple (possible only as a\n",
      "    keyword argument) must have length equal to the number of outputs.\n",
      "where : array_like, optional\n",
      "    This condition is broadcast over the input. At locations where the\n",
      "    condition is True, the `out` array will be set to the ufunc result.\n",
      "    Elsewhere, the `out` array will retain its original value.\n",
      "    Note that if an uninitialized `out` array is created via the default\n",
      "    ``out=None``, locations within it where the condition is False will\n",
      "    remain uninitialized.\n",
      "**kwargs\n",
      "    For other keyword-only arguments, see the\n",
      "    :ref:`ufunc docs <ufuncs.kwargs>`.\n",
      "\n",
      "Returns\n",
      "-------\n",
      "add : ndarray or scalar\n",
      "    The sum of `x1` and `x2`, element-wise.\n",
      "    This is a scalar if both `x1` and `x2` are scalars.\n",
      "\n",
      "Notes\n",
      "-----\n",
      "Equivalent to `x1` + `x2` in terms of array broadcasting.\n",
      "\n",
      "Examples\n",
      "--------\n",
      ">>> np.add(1.0, 4.0)\n",
      "5.0\n",
      ">>> x1 = np.arange(9.0).reshape((3, 3))\n",
      ">>> x2 = np.arange(3.0)\n",
      ">>> np.add(x1, x2)\n",
      "array([[  0.,   2.,   4.],\n",
      "       [  3.,   5.,   7.],\n",
      "       [  6.,   8.,  10.]])\n",
      "\n",
      "The ``+`` operator can be used as a shorthand for ``np.add`` on ndarrays.\n",
      "\n",
      ">>> x1 = np.arange(9.0).reshape((3, 3))\n",
      ">>> x2 = np.arange(3.0)\n",
      ">>> x1 + x2\n",
      "array([[ 0.,  2.,  4.],\n",
      "       [ 3.,  5.,  7.],\n",
      "       [ 6.,  8., 10.]])\n",
      "None\n"
     ]
    }
   ],
   "source": [
    "# 5. How to get the documentation of the numpy add function from the IPython console?\n",
    "import numpy as np\n",
    "print(np.info(np.add))\n"
   ]
  },
  {
   "cell_type": "code",
   "execution_count": 6,
   "id": "6b464474",
   "metadata": {},
   "outputs": [],
   "source": [
    "# 6. Create a vector of zeros with the size 10 but the fifth value which is 1\n",
    "vector = np.zeros(10)\n",
    "vector[4] = 1\n"
   ]
  },
  {
   "cell_type": "code",
   "execution_count": 7,
   "id": "7d05024d",
   "metadata": {},
   "outputs": [
    {
     "data": {
      "text/plain": [
       "array([10, 11, 12, 13, 14, 15, 16, 17, 18, 19, 20, 21, 22, 23, 24, 25, 26,\n",
       "       27, 28, 29, 30, 31, 32, 33, 34, 35, 36, 37, 38, 39, 40, 41, 42, 43,\n",
       "       44, 45, 46, 47, 48, 49])"
      ]
     },
     "execution_count": 7,
     "metadata": {},
     "output_type": "execute_result"
    }
   ],
   "source": [
    "# 7. Create a vector with values ranging from 10 to 49\n",
    "# hint: arange\n",
    "np.arange(10,50)\n"
   ]
  },
  {
   "cell_type": "code",
   "execution_count": 9,
   "id": "33f5e2b5",
   "metadata": {},
   "outputs": [
    {
     "ename": "SyntaxError",
     "evalue": "incomplete input (674079099.py, line 3)",
     "output_type": "error",
     "traceback": [
      "\u001b[1;36m  Input \u001b[1;32mIn [9]\u001b[1;36m\u001b[0m\n\u001b[1;33m    reversedVector[::-1]\\\u001b[0m\n\u001b[1;37m                         ^\u001b[0m\n\u001b[1;31mSyntaxError\u001b[0m\u001b[1;31m:\u001b[0m incomplete input\n"
     ]
    }
   ],
   "source": [
    "# 8. Reverse a vector (first element becomes last)\n",
    "reversedVector = np.arange(10,50)\n",
    "reversedVector[::-1]\\\n"
   ]
  },
  {
   "cell_type": "code",
   "execution_count": 10,
   "id": "663f5ac2",
   "metadata": {},
   "outputs": [
    {
     "data": {
      "text/plain": [
       "array([49, 48, 47, 46, 45, 44, 43, 42, 41, 40, 39, 38, 37, 36, 35, 34, 33,\n",
       "       32, 31, 30, 29, 28, 27, 26, 25, 24, 23, 22, 21, 20, 19, 18, 17, 16,\n",
       "       15, 14, 13, 12, 11, 10])"
      ]
     },
     "execution_count": 10,
     "metadata": {},
     "output_type": "execute_result"
    }
   ],
   "source": [
    "# 8. Reverse a vector (first element becomes last)\n",
    "reversedVector = np.arange(10,50)\n",
    "reversedVector[::-1]"
   ]
  },
  {
   "cell_type": "code",
   "execution_count": 11,
   "id": "815cea52",
   "metadata": {},
   "outputs": [
    {
     "data": {
      "text/plain": [
       "array([[0, 1, 2],\n",
       "       [3, 4, 5],\n",
       "       [6, 7, 8]])"
      ]
     },
     "execution_count": 11,
     "metadata": {},
     "output_type": "execute_result"
    }
   ],
   "source": [
    "# Create a 3x3 matrix with values ranging from 0 to 8\n",
    "matrix1 = np.arange(0,9)\n",
    "matrix1.reshape(3,3)\n"
   ]
  },
  {
   "cell_type": "code",
   "execution_count": 12,
   "id": "e87e8096",
   "metadata": {},
   "outputs": [
    {
     "ename": "SyntaxError",
     "evalue": "incomplete input (2125538380.py, line 3)",
     "output_type": "error",
     "traceback": [
      "\u001b[1;36m  Input \u001b[1;32mIn [12]\u001b[1;36m\u001b[0m\n\u001b[1;33m    print(np.nonzero([1, 2, 0, 0, 4, 0])\u001b[0m\n\u001b[1;37m                                        ^\u001b[0m\n\u001b[1;31mSyntaxError\u001b[0m\u001b[1;31m:\u001b[0m incomplete input\n"
     ]
    }
   ],
   "source": [
    "# 10. Find indices of non-zero elements from \\[1,2,0,0,4,0\\] \n",
    "import numpy as np\n",
    "print(np.nonzero([1, 2, 0, 0, 4, 0])\n"
   ]
  },
  {
   "cell_type": "code",
   "execution_count": 13,
   "id": "6dd6981a",
   "metadata": {},
   "outputs": [
    {
     "name": "stdout",
     "output_type": "stream",
     "text": [
      "(array([0, 1, 4], dtype=int64),)\n"
     ]
    }
   ],
   "source": [
    "# 10. Find indices of non-zero elements from \\[1,2,0,0,4,0\\] \n",
    "import numpy as np\n",
    "print(np.nonzero([1, 2, 0, 0, 4, 0]))\n"
   ]
  },
  {
   "cell_type": "code",
   "execution_count": 14,
   "id": "5f5aa4c4",
   "metadata": {},
   "outputs": [
    {
     "data": {
      "text/plain": [
       "array([[1., 0., 0.],\n",
       "       [0., 1., 0.],\n",
       "       [0., 0., 1.]])"
      ]
     },
     "execution_count": 14,
     "metadata": {},
     "output_type": "execute_result"
    }
   ],
   "source": [
    "# 11. Create a 3x3 identity matrix (★☆☆)\n",
    "# hint: the best numpy documentation is in the scipy website :)\n",
    "np.identity(3)\n",
    "\n"
   ]
  },
  {
   "cell_type": "code",
   "execution_count": 15,
   "id": "69f82cad",
   "metadata": {},
   "outputs": [
    {
     "data": {
      "text/plain": [
       "array([[[0.78170704, 0.43357993, 0.87200119],\n",
       "        [0.90574667, 0.99471825, 0.80224663],\n",
       "        [0.52903417, 0.98784813, 0.40662573]],\n",
       "\n",
       "       [[0.49274968, 0.15742508, 0.53366278],\n",
       "        [0.12217037, 0.26068395, 0.1682791 ],\n",
       "        [0.37298887, 0.88281991, 0.77844943]],\n",
       "\n",
       "       [[0.06536545, 0.33523431, 0.18271431],\n",
       "        [0.80305423, 0.65352814, 0.46151903],\n",
       "        [0.20448628, 0.82117114, 0.76792561]]])"
      ]
     },
     "execution_count": 15,
     "metadata": {},
     "output_type": "execute_result"
    }
   ],
   "source": [
    "# 12. Create a 3x3x3 array with random values\n",
    "np.random.random((3, 3, 3))\n"
   ]
  },
  {
   "cell_type": "code",
   "execution_count": 16,
   "id": "3093654c",
   "metadata": {},
   "outputs": [
    {
     "data": {
      "text/plain": [
       "0.9883918551684364"
      ]
     },
     "execution_count": 16,
     "metadata": {},
     "output_type": "execute_result"
    }
   ],
   "source": [
    "# 13. Create a 10x10 array with random values and find the minimum and maximum values\n",
    "# hint: a.min,a.max\n",
    "randomArray = np.random.random((10,10))\n",
    "# minimum value\n",
    "np.min(randomArray)\n",
    "# maximum values\n",
    "np.max(randomArray)\n"
   ]
  },
  {
   "cell_type": "code",
   "execution_count": 17,
   "id": "b0956481",
   "metadata": {},
   "outputs": [
    {
     "data": {
      "text/plain": [
       "0.49139185760166515"
      ]
     },
     "execution_count": 17,
     "metadata": {},
     "output_type": "execute_result"
    }
   ],
   "source": [
    "# 14. Create a random vector of size 30 and find the mean value\n",
    "# hint: a.mean\n",
    "vector = np.random.random((5,6))\n",
    "\n",
    "# mean values of matrix\n",
    "np.mean(vector)\n"
   ]
  },
  {
   "cell_type": "code",
   "execution_count": 18,
   "id": "3f6614d0",
   "metadata": {},
   "outputs": [],
   "source": [
    "#  Create a 2d array with 1 on the border and 0 inside\n",
    "# hint: ones()\n",
    "# hint2: for an array a, which elements are chosen by a[1:-1] ?\n",
    "array = np.ones((5,5))\n",
    "array[1:4, 1:4] = 0 \t\n"
   ]
  },
  {
   "cell_type": "code",
   "execution_count": null,
   "id": "b7f52874",
   "metadata": {},
   "outputs": [],
   "source": []
  }
 ],
 "metadata": {
  "kernelspec": {
   "display_name": "Python 3 (ipykernel)",
   "language": "python",
   "name": "python3"
  },
  "language_info": {
   "codemirror_mode": {
    "name": "ipython",
    "version": 3
   },
   "file_extension": ".py",
   "mimetype": "text/x-python",
   "name": "python",
   "nbconvert_exporter": "python",
   "pygments_lexer": "ipython3",
   "version": "3.10.4"
  }
 },
 "nbformat": 4,
 "nbformat_minor": 5
}
